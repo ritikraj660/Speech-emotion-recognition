{
  "nbformat": 4,
  "nbformat_minor": 0,
  "metadata": {
    "colab": {
      "name": "lpcc&mfcc_mlpclassifier.ipynb",
      "provenance": [],
      "include_colab_link": true
    },
    "kernelspec": {
      "name": "python3",
      "display_name": "Python 3"
    }
  },
  "cells": [
    {
      "cell_type": "markdown",
      "metadata": {
        "id": "view-in-github",
        "colab_type": "text"
      },
      "source": [
        "<a href=\"https://colab.research.google.com/github/ritikraj660/Speech-emotion-recognition/blob/master/lpcc%26mfcc_mlpclassifier.ipynb\" target=\"_parent\"><img src=\"https://colab.research.google.com/assets/colab-badge.svg\" alt=\"Open In Colab\"/></a>"
      ]
    },
    {
      "cell_type": "code",
      "metadata": {
        "id": "IpFs-K8Ix3Mf",
        "colab_type": "code",
        "colab": {}
      },
      "source": [
        "from pydrive.auth import GoogleAuth\n",
        "from pydrive.drive import GoogleDrive\n",
        "from google.colab import auth\n",
        "from oauth2client.client import GoogleCredentials"
      ],
      "execution_count": 0,
      "outputs": []
    },
    {
      "cell_type": "code",
      "metadata": {
        "id": "ZnRQPjPm2ar3",
        "colab_type": "code",
        "colab": {}
      },
      "source": [
        "auth.authenticate_user()\n",
        "gauth = GoogleAuth()\n",
        "gauth.credentials = GoogleCredentials.get_application_default()\n",
        "drive = GoogleDrive(gauth)"
      ],
      "execution_count": 0,
      "outputs": []
    },
    {
      "cell_type": "code",
      "metadata": {
        "id": "Hw_BCHoE2j4P",
        "colab_type": "code",
        "colab": {}
      },
      "source": [
        "link1 = 'https://drive.google.com/open?id=181fiuO2wT-Ho0v-sXBdDZpXcOPWmsc9k'#mfcc.csv\n",
        "link2 = 'https://drive.google.com/open?id=1bXetowCHIneTvC0lsH1zpOkb-eEkQNZ6'#lpcc.csv"
      ],
      "execution_count": 0,
      "outputs": []
    },
    {
      "cell_type": "code",
      "metadata": {
        "id": "ckFVIP9P3JmX",
        "colab_type": "code",
        "colab": {
          "base_uri": "https://localhost:8080/",
          "height": 51
        },
        "outputId": "1360d860-3561-443b-89b9-0f75bf2811f9"
      },
      "source": [
        "fluff, id1 = link1.split('=')\n",
        "fluff, id2 = link2.split('=')\n",
        "print (id1,\"\\n\",id2) "
      ],
      "execution_count": 5,
      "outputs": [
        {
          "output_type": "stream",
          "text": [
            "181fiuO2wT-Ho0v-sXBdDZpXcOPWmsc9k \n",
            " 1bXetowCHIneTvC0lsH1zpOkb-eEkQNZ6\n"
          ],
          "name": "stdout"
        }
      ]
    },
    {
      "cell_type": "code",
      "metadata": {
        "id": "YRa6SjKK3The",
        "colab_type": "code",
        "colab": {}
      },
      "source": [
        "import pandas as pd\n",
        "downloaded = drive.CreateFile({'id':id2}) \n",
        "downloaded.GetContentFile('lpcc.csv')  \n",
        "df2 = pd.read_csv('lpcc.csv')\n",
        "downloaded = drive.CreateFile({'id':id1}) \n",
        "downloaded.GetContentFile('mfcc.csv')  \n",
        "df1 = pd.read_csv('mfcc.csv')"
      ],
      "execution_count": 0,
      "outputs": []
    },
    {
      "cell_type": "code",
      "metadata": {
        "id": "jqrKzfi73etP",
        "colab_type": "code",
        "colab": {
          "base_uri": "https://localhost:8080/",
          "height": 272
        },
        "outputId": "35c3c339-b93c-4a8d-b829-d82fa0cd50d8"
      },
      "source": [
        "from sklearn.utils import shuffle\n",
        "df1 = shuffle(df1)\n",
        "df2 = shuffle(df2)\n",
        "print(df1.head(),df2.head())"
      ],
      "execution_count": 8,
      "outputs": [
        {
          "output_type": "stream",
          "text": [
            "        -1.6153728139728258  -0.566095886747293  ...  0.16774122569148825  1272\n",
            "396002            -0.044156           -1.446648  ...             0.062622   777\n",
            "374290            -1.182973            0.020790  ...             0.390103   652\n",
            "180077            -2.009802            0.219762  ...             0.197942   174\n",
            "120825             0.540596            1.290997  ...            -0.257531  1673\n",
            "397450             1.342179            0.709787  ...             0.356876   777\n",
            "\n",
            "[5 rows x 21 columns]         -3.3702689190026276  -1.8400973465645287  ...  0.5753371990050785  1272\n",
            "35635             -3.370269            -1.840097  ...            0.575337  1272\n",
            "337712            -3.370269            -1.840097  ...            0.575337   422\n",
            "222026            -3.370270            -1.840097  ...            0.575337  1919\n",
            "340224            -3.370276            -1.840091  ...            0.575336   422\n",
            "322514            -3.370269            -1.840097  ...            0.575337   422\n",
            "\n",
            "[5 rows x 19 columns]\n"
          ],
          "name": "stdout"
        }
      ]
    },
    {
      "cell_type": "code",
      "metadata": {
        "id": "Ucvik7Xm3e3B",
        "colab_type": "code",
        "colab": {}
      },
      "source": [
        "x1 = df1.drop(columns=\"1272\")\n",
        "y1 = df1[\"1272\"]\n",
        "x2 = df2.drop(columns=\"1272\")\n",
        "y2 = df2[\"1272\"]"
      ],
      "execution_count": 0,
      "outputs": []
    },
    {
      "cell_type": "code",
      "metadata": {
        "id": "qRuq8Ewu3fDR",
        "colab_type": "code",
        "colab": {
          "base_uri": "https://localhost:8080/",
          "height": 51
        },
        "outputId": "e723d07b-a585-4c53-8f05-ba9ac399f88c"
      },
      "source": [
        "print(x1.shape,y1.shape)\n",
        "print(x2.shape,y2.shape)"
      ],
      "execution_count": 10,
      "outputs": [
        {
          "output_type": "stream",
          "text": [
            "(485411, 20) (485411,)\n",
            "(490699, 18) (490699,)\n"
          ],
          "name": "stdout"
        }
      ]
    },
    {
      "cell_type": "code",
      "metadata": {
        "id": "wCGd-z0j3fBE",
        "colab_type": "code",
        "colab": {
          "base_uri": "https://localhost:8080/",
          "height": 51
        },
        "outputId": "ab8d9d1e-13a9-426c-f62b-c5a517da805f"
      },
      "source": [
        "import pandas as pd\n",
        "from sklearn import datasets, linear_model\n",
        "from sklearn.model_selection import train_test_split\n",
        "from matplotlib import pyplot as plt\n",
        "\n",
        "X_train1, X_test1, y_train1, y_test1 = train_test_split(x1, y1, test_size=0.2)\n",
        "X_train2, X_test2, y_train2, y_test2 = train_test_split(x2, y2, test_size=0.2)\n",
        "print (X_train1.shape, y_train1.shape, X_test1.shape, y_test1.shape)\n",
        "print( X_train2.shape, y_train2.shape, X_test2.shape, y_test2.shape)"
      ],
      "execution_count": 11,
      "outputs": [
        {
          "output_type": "stream",
          "text": [
            "(388328, 20) (388328,) (97083, 20) (97083,)\n",
            "(392559, 18) (392559,) (98140, 18) (98140,)\n"
          ],
          "name": "stdout"
        }
      ]
    },
    {
      "cell_type": "code",
      "metadata": {
        "id": "-NfPyKAY3e9X",
        "colab_type": "code",
        "colab": {}
      },
      "source": [
        "#DataFlair - Initialize the Multi Layer Perceptron Classifier\n",
        "from sklearn.neural_network import MLPClassifier\n",
        "from sklearn.metrics import accuracy_score\n",
        "model1=MLPClassifier(hidden_layer_sizes=(128,128,128), activation='tanh', solver='adam', \n",
        "                    alpha=0.0001, batch_size=128, learning_rate='constant', \n",
        "                    learning_rate_init=0.001, power_t=0.5, max_iter=50, shuffle=True, \n",
        "                    random_state=None, tol=0.0001, verbose=10, warm_start=False, \n",
        "                    momentum=0.9, nesterovs_momentum=True, early_stopping=False, \n",
        "                    validation_fraction=0.1, beta_1=0.9, beta_2=0.999, epsilon=1e-08, \n",
        "                    n_iter_no_change=10)\n",
        "model2=MLPClassifier(hidden_layer_sizes=(128,128,128), activation='tanh', solver='adam', \n",
        "                    alpha=0.0001, batch_size=128, learning_rate='constant', \n",
        "                    learning_rate_init=0.001, power_t=0.5, max_iter=50, shuffle=True, \n",
        "                    random_state=None, tol=0.0001, verbose=10, warm_start=False, \n",
        "                    momentum=0.9, nesterovs_momentum=True, early_stopping=False, \n",
        "                    validation_fraction=0.1, beta_1=0.9, beta_2=0.999, epsilon=1e-08, \n",
        "                    n_iter_no_change=10)"
      ],
      "execution_count": 0,
      "outputs": []
    },
    {
      "cell_type": "code",
      "metadata": {
        "id": "zSgdL9Ii3xcQ",
        "colab_type": "code",
        "colab": {
          "base_uri": "https://localhost:8080/",
          "height": 1000
        },
        "outputId": "987d9efb-8e7c-4c4b-cf57-3e216e6c987d"
      },
      "source": [
        "#DataFlair - Train the model\n",
        "model1.fit(X_train1,y_train1)\n",
        "model2.fit(X_train2,y_train2)\n",
        "#model1.fit(x_train,y_train)"
      ],
      "execution_count": 14,
      "outputs": [
        {
          "output_type": "stream",
          "text": [
            "Iteration 1, loss = 1.24374941\n",
            "Iteration 2, loss = 0.91647262\n",
            "Iteration 3, loss = 0.85099405\n",
            "Iteration 4, loss = 0.81538376\n",
            "Iteration 5, loss = 0.79028834\n",
            "Iteration 6, loss = 0.77152213\n",
            "Iteration 7, loss = 0.75660544\n",
            "Iteration 8, loss = 0.74381121\n",
            "Iteration 9, loss = 0.73395189\n",
            "Iteration 10, loss = 0.72530671\n",
            "Iteration 11, loss = 0.71735703\n",
            "Iteration 12, loss = 0.70983716\n",
            "Iteration 13, loss = 0.70381505\n",
            "Iteration 14, loss = 0.69858767\n",
            "Iteration 15, loss = 0.69309709\n",
            "Iteration 16, loss = 0.68873613\n",
            "Iteration 17, loss = 0.68403902\n",
            "Iteration 18, loss = 0.68098037\n",
            "Iteration 19, loss = 0.67704104\n",
            "Iteration 20, loss = 0.67399449\n",
            "Iteration 21, loss = 0.67061450\n",
            "Iteration 22, loss = 0.66778935\n",
            "Iteration 23, loss = 0.66572170\n",
            "Iteration 24, loss = 0.66279499\n",
            "Iteration 25, loss = 0.66072875\n",
            "Iteration 26, loss = 0.65849413\n",
            "Iteration 27, loss = 0.65663236\n",
            "Iteration 28, loss = 0.65473491\n",
            "Iteration 29, loss = 0.65263594\n",
            "Iteration 30, loss = 0.65154880\n",
            "Iteration 31, loss = 0.64940742\n",
            "Iteration 32, loss = 0.64770693\n",
            "Iteration 33, loss = 0.64606950\n",
            "Iteration 34, loss = 0.64510941\n",
            "Iteration 35, loss = 0.64375338\n",
            "Iteration 36, loss = 0.64197333\n",
            "Iteration 37, loss = 0.64162812\n",
            "Iteration 38, loss = 0.64025323\n",
            "Iteration 39, loss = 0.63814030\n",
            "Iteration 40, loss = 0.63809060\n",
            "Iteration 41, loss = 0.63626897\n",
            "Iteration 42, loss = 0.63597565\n",
            "Iteration 43, loss = 0.63487449\n",
            "Iteration 44, loss = 0.63404163\n",
            "Iteration 45, loss = 0.63267019\n",
            "Iteration 46, loss = 0.63214630\n",
            "Iteration 47, loss = 0.63114500\n",
            "Iteration 48, loss = 0.63016060\n",
            "Iteration 49, loss = 0.62900997\n",
            "Iteration 50, loss = 0.62809037\n"
          ],
          "name": "stdout"
        },
        {
          "output_type": "stream",
          "text": [
            "/usr/local/lib/python3.6/dist-packages/sklearn/neural_network/multilayer_perceptron.py:566: ConvergenceWarning: Stochastic Optimizer: Maximum iterations (50) reached and the optimization hasn't converged yet.\n",
            "  % self.max_iter, ConvergenceWarning)\n"
          ],
          "name": "stderr"
        },
        {
          "output_type": "stream",
          "text": [
            "Iteration 1, loss = 2.30586156\n",
            "Iteration 2, loss = 2.30372827\n",
            "Iteration 3, loss = 2.30344632\n",
            "Iteration 4, loss = 2.30305133\n",
            "Iteration 5, loss = 2.30292368\n",
            "Iteration 6, loss = 2.30281596\n",
            "Iteration 7, loss = 2.30278806\n",
            "Iteration 8, loss = 2.30278158\n",
            "Iteration 9, loss = 2.30272507\n",
            "Iteration 10, loss = 2.30272404\n",
            "Iteration 11, loss = 2.30272641\n",
            "Iteration 12, loss = 2.30273979\n",
            "Iteration 13, loss = 2.30267924\n",
            "Iteration 14, loss = 2.30271608\n",
            "Iteration 15, loss = 2.30266625\n",
            "Iteration 16, loss = 2.30267446\n",
            "Iteration 17, loss = 2.30268106\n",
            "Training loss did not improve more than tol=0.000100 for 10 consecutive epochs. Stopping.\n"
          ],
          "name": "stdout"
        },
        {
          "output_type": "execute_result",
          "data": {
            "text/plain": [
              "MLPClassifier(activation='tanh', alpha=0.0001, batch_size=128, beta_1=0.9,\n",
              "              beta_2=0.999, early_stopping=False, epsilon=1e-08,\n",
              "              hidden_layer_sizes=(128, 128, 128), learning_rate='constant',\n",
              "              learning_rate_init=0.001, max_iter=50, momentum=0.9,\n",
              "              n_iter_no_change=10, nesterovs_momentum=True, power_t=0.5,\n",
              "              random_state=None, shuffle=True, solver='adam', tol=0.0001,\n",
              "              validation_fraction=0.1, verbose=10, warm_start=False)"
            ]
          },
          "metadata": {
            "tags": []
          },
          "execution_count": 14
        }
      ]
    },
    {
      "cell_type": "code",
      "metadata": {
        "id": "aC0n1fJE31wV",
        "colab_type": "code",
        "colab": {}
      },
      "source": [
        "#DataFlair - Predict for the test set\n",
        "from tqdm import tqdm\n",
        "y_pred1=model1.predict(X_test1)\n",
        "y_pred2=model2.predict(X_test2)\n",
        "#y_pred1=model1.predict(x_test)"
      ],
      "execution_count": 0,
      "outputs": []
    },
    {
      "cell_type": "code",
      "metadata": {
        "id": "N1ADCA-y312X",
        "colab_type": "code",
        "colab": {
          "base_uri": "https://localhost:8080/",
          "height": 204
        },
        "outputId": "215f77a9-487b-460b-8ae3-50c57293a30e"
      },
      "source": [
        "#DataFlair - Calculate the accuracy of our model\n",
        "print(\"\\n**********************************************\\n\")\n",
        "accuracy=accuracy_score(y_true=y_test1, y_pred=y_pred1)\n",
        "#DataFlair - Print the accuracy\n",
        "print(\"MFCC Accuracy: {:.2f}%\".format(accuracy*100))\n",
        "accuracy=accuracy_score(y_true=y_test2, y_pred=y_pred2)\n",
        "print(\"\\n**********************************************\\n\")\n",
        "#DataFlair - Print the accuracy\n",
        "print(\"LPCC Accuracy: {:.2f}%\".format(accuracy*100))\n",
        "print(\"\\n**********************************************\\n\")"
      ],
      "execution_count": 16,
      "outputs": [
        {
          "output_type": "stream",
          "text": [
            "\n",
            "**********************************************\n",
            "\n",
            "MFCC Accuracy: 74.86%\n",
            "\n",
            "**********************************************\n",
            "\n",
            "LPCC Accuracy: 10.15%\n",
            "\n",
            "**********************************************\n",
            "\n"
          ],
          "name": "stdout"
        }
      ]
    },
    {
      "cell_type": "code",
      "metadata": {
        "id": "eIgO0Q8G6sO-",
        "colab_type": "code",
        "colab": {}
      },
      "source": [
        ""
      ],
      "execution_count": 0,
      "outputs": []
    }
  ]
}